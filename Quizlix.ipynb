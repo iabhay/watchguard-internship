{
  "metadata": {
    "language_info": {
      "name": "python"
    },
    "kernelspec": {
      "name": "python3",
      "display_name": "Python 3"
    },
    "colab": {
      "provenance": [],
      "include_colab_link": true
    }
  },
  "nbformat_minor": 0,
  "nbformat": 4,
  "cells": [
    {
      "cell_type": "markdown",
      "metadata": {
        "id": "view-in-github",
        "colab_type": "text"
      },
      "source": [
        "<a href=\"https://colab.research.google.com/github/iabhay/watchguard-internship/blob/main/Quizlix.ipynb\" target=\"_parent\"><img src=\"https://colab.research.google.com/assets/colab-badge.svg\" alt=\"Open In Colab\"/></a>"
      ]
    },
    {
      "cell_type": "code",
      "source": [
        "import os\n",
        "import random\n",
        "import json"
      ],
      "metadata": {
        "trusted": true,
        "id": "zNmqa5OfFdjf"
      },
      "execution_count": 1,
      "outputs": []
    },
    {
      "cell_type": "code",
      "source": [
        "\"\"\"\n",
        "1. Register/Login\n",
        "  1. Play ->\n",
        "     1. question & ans\n",
        "  2. Highscore\n",
        "  3. Topscore\n",
        "  4. exit\n",
        "\"\"\""
      ],
      "metadata": {
        "trusted": true,
        "id": "y8ysFet8Fdjj",
        "outputId": "f3659723-6b17-4f20-8ee1-2b110af988c4"
      },
      "execution_count": null,
      "outputs": [
        {
          "execution_count": 2,
          "output_type": "execute_result",
          "data": {
            "text/plain": "'\\n1. Register/Login\\n  1. Play ->\\n     1. question & ans\\n  2. Highscore\\n  3. Topscore\\n  4. exit\\n'"
          },
          "metadata": {}
        }
      ]
    },
    {
      "cell_type": "code",
      "source": [
        "loggedin = False\n",
        "loggedindetails = \"\"\n",
        "users = 'users.txt'"
      ],
      "metadata": {
        "trusted": true,
        "id": "jkOinv0jFdjk"
      },
      "execution_count": null,
      "outputs": []
    },
    {
      "cell_type": "code",
      "source": [
        "def menu():\n",
        "    global loggedin\n",
        "    if loggedin == False:\n",
        "        ask = input(\"Login - A\\nRegister - B\\nQuit - Q\\n=> \")\n",
        "        while(ask != 'Q' or loggedin == False):\n",
        "            if ask=='A':\n",
        "                login()\n",
        "            elif ask == 'B':\n",
        "                register()\n",
        "            elif ask == 'Q':\n",
        "                print(f\"Thank you for playing!!\")\n",
        "                break\n",
        "            else:\n",
        "                print(\"Please Select Carefully!\")\n",
        "                ask = input(\"Login - A\\nRegister - B\\nQuit - Q\\n=> \")\n"
      ],
      "metadata": {
        "trusted": true,
        "id": "0tfKvWgdFdjk"
      },
      "execution_count": null,
      "outputs": []
    },
    {
      "cell_type": "code",
      "source": [
        "def register():\n",
        "    name = input(\"Enter your name: \")\n",
        "    my_list = [name, 0]\n",
        "    with open(users, 'a') as file:\n",
        "        file.write('\\n'.join(map(str, my_list)))\n",
        "    login()\n"
      ],
      "metadata": {
        "trusted": true,
        "id": "fQIbtaIiFdjk"
      },
      "execution_count": null,
      "outputs": []
    },
    {
      "cell_type": "code",
      "source": [
        "def login():\n",
        "    name = input(\"Enter Your Name: \")\n",
        "    with open(users, 'r') as file:\n",
        "        for line in file.readlines():\n",
        "            if name in line:\n",
        "                global loggedin\n",
        "                loggedin = True\n",
        "                global loggedindetails\n",
        "                loggedindetails = name\n",
        "                loginmenu()\n",
        "                break\n"
      ],
      "metadata": {
        "trusted": true,
        "id": "x3ZcfAfCFdjl"
      },
      "execution_count": null,
      "outputs": []
    },
    {
      "cell_type": "code",
      "source": [
        "def loginmenu():\n",
        "    global loggedin\n",
        "    if loggedin:\n",
        "        ask = input(\"Play - A\\nYour Highscore - B\\nTopScorer - C\\nQuit - Q=> \")\n",
        "        while (ask != 'Q'):\n",
        "            if ask == 'A':\n",
        "                playgame()\n",
        "            elif ask == 'B':\n",
        "                highscorer()\n",
        "            elif ask == 'C':\n",
        "                topscorer()\n",
        "            elif ask == 'Q':\n",
        "                print(f\"Thank you for playing!!\")\n",
        "                break\n",
        "            else:\n",
        "                print(\"Please Select Carefully!\")\n",
        "                ask = input(\"Play - A\\nYour Highscore - B\\nTopScorer - C\\nQuit - Q=> \")\n",
        "\n"
      ],
      "metadata": {
        "trusted": true,
        "id": "MitYe19xFdjl"
      },
      "execution_count": null,
      "outputs": []
    },
    {
      "cell_type": "code",
      "source": [
        "def playgame():\n",
        "    print(\"We will give you 10 Questions.\")\n",
        "    print(\"Here your game starts...\")\n",
        "    userscore = 0\n",
        "    for i in range(0,10):\n",
        "        userscore += question()\n",
        "\n",
        "    print(f\"You scored {userscore} out of 10.\")\n",
        "    highscorer(loggedindetails, userscore)\n",
        "\n"
      ],
      "metadata": {
        "trusted": true,
        "id": "Gd9MgzFfFdjm"
      },
      "execution_count": null,
      "outputs": []
    },
    {
      "cell_type": "code",
      "source": [
        "def highscorer(name, score):\n",
        "    with open('users.txt', 'r') as file:\n",
        "        newusers = [line for line in file.readlines() if name not in line]\n",
        "        for line in file.readlines().strip():\n",
        "            if name == line[0]:\n",
        "                if score > line[1]:\n",
        "                    newusers.append([name, score])\n",
        "                    with open('users.txt', 'w') as file:\n",
        "                        file.write(newusers)\n",
        "                    break\n",
        "\n"
      ],
      "metadata": {
        "trusted": true,
        "id": "ImMQAunQFdjm"
      },
      "execution_count": null,
      "outputs": []
    },
    {
      "cell_type": "code",
      "source": [
        "def topscorer(name, score):\n",
        "    try:\n",
        "        if os.stat('topscore.txt').st_size == 0:\n",
        "            writeintofile(name, score)\n",
        "        else:\n",
        "            with open('topscore.txt', 'w') as file:\n",
        "                nametop, scoretop = file.readline()\n",
        "                if score >= scoretop:\n",
        "                    writeintofile(name, score)\n",
        "    except FileNotFoundError:\n",
        "        print('The specified file does NOT exist')\n",
        "    finally:\n",
        "        loginmenu()\n"
      ],
      "metadata": {
        "trusted": true,
        "id": "jbmP23HLFdjn"
      },
      "execution_count": null,
      "outputs": []
    },
    {
      "cell_type": "code",
      "source": [
        "def writeintofile(name, score):\n",
        "    with open('topscore.txt', 'w') as file:\n",
        "        file.writelines(f'{name}, {score}')\n",
        "\n"
      ],
      "metadata": {
        "trusted": true,
        "id": "zXxtA4ETFdjn"
      },
      "execution_count": null,
      "outputs": []
    },
    {
      "cell_type": "code",
      "source": [
        "def topscorerinfo():\n",
        "    try:\n",
        "        if os.stat('topscore.txt').st_size == 0:\n",
        "            print(\"Game Not Played Yet!!\")\n",
        "        else:\n",
        "            with open('topscore.txt', 'w') as file:\n",
        "                nametop, scoretop = file.readline()\n",
        "                print(f\"Topscorer Name: {nametop}, Score: {scoretop}\")\n",
        "    except FileNotFoundError:\n",
        "        print('The specified file does NOT exist')\n",
        "    finally:\n",
        "        loginmenu()\n",
        "\n"
      ],
      "metadata": {
        "trusted": true,
        "id": "syGid57AFdjn"
      },
      "execution_count": null,
      "outputs": []
    },
    {
      "cell_type": "code",
      "source": [
        "def question():\n",
        "    with open('questions.txt', 'r') as file:\n",
        "        data = file.read\n",
        "\n",
        "    content = json.loads(data)\n",
        "    currentscore = 0\n",
        "    randnum = random.randint(0, len(content))\n",
        "    for ques in content:\n",
        "        if ques['id'] == randnum:\n",
        "            print(f\"Question: {ques['question']}\")\n",
        "            print(f\"Options: \")\n",
        "            my_options = ques['options']\n",
        "            correctoption = ques['correct']\n",
        "            random.shuffle(my_options)\n",
        "            for i in range(0, 4):\n",
        "                print(f\"{i+1}. {my_options[i]}\")\n",
        "            askoption = input(\"Write correct option: \")\n",
        "            if askoption == correctoption:\n",
        "                currentscore += 1\n",
        "    return currentscore\n",
        "\n",
        "\n",
        "menu()"
      ],
      "metadata": {
        "trusted": true,
        "id": "XSxag1udFdjn",
        "outputId": "7b34e3a8-e95a-495b-ba0f-a7e07d2a5b13"
      },
      "execution_count": null,
      "outputs": [
        {
          "name": "stdout",
          "text": "Please Select Carefully!\nPlease Select Carefully!\nPlease Select Carefully!\nPlease Select Carefully!\nPlease Select Carefully!\nPlease Select Carefully!\nPlease Select Carefully!\nPlease Select Carefully!\nPlease Select Carefully!\nPlease Select Carefully!\nPlease Select Carefully!\nPlease Select Carefully!\nPlease Select Carefully!\nPlease Select Carefully!\nPlease Select Carefully!\nPlease Select Carefully!\nPlease Select Carefully!\nPlease Select Carefully!\nPlease Select Carefully!\nPlease Select Carefully!\nPlease Select Carefully!\nPlease Select Carefully!\nPlease Select Carefully!\nPlease Select Carefully!\nPlease Select Carefully!\nPlease Select Carefully!\nPlease Select Carefully!\nPlease Select Carefully!\nPlease Select Carefully!\nPlease Select Carefully!\nPlease Select Carefully!\nPlease Select Carefully!\nPlease Select Carefully!\nPlease Select Carefully!\nPlease Select Carefully!\nPlease Select Carefully!\nPlease Select Carefully!\nPlease Select Carefully!\nPlease Select Carefully!\nPlease Select Carefully!\nPlease Select Carefully!\nPlease Select Carefully!\nPlease Select Carefully!\nPlease Select Carefully!\nPlease Select Carefully!\nPlease Select Carefully!\nPlease Select Carefully!\nPlease Select Carefully!\nPlease Select Carefully!\nPlease Select Carefully!\nPlease Select Carefully!\nPlease Select Carefully!\nPlease Select Carefully!\nPlease Select Carefully!\nPlease Select Carefully!\nPlease Select Carefully!\nPlease Select Carefully!\nPlease Select Carefully!\nPlease Select Carefully!\nPlease Select Carefully!\nPlease Select Carefully!\nPlease Select Carefully!\nPlease Select Carefully!\nPlease Select Carefully!\nPlease Select Carefully!\nPlease Select Carefully!\nPlease Select Carefully!\nPlease Select Carefully!\nPlease Select Carefully!\nPlease Select Carefully!\nPlease Select Carefully!\nPlease Select Carefully!\nPlease Select Carefully!\nPlease Select Carefully!\nPlease Select Carefully!\nPlease Select Carefully!\nPlease Select Carefully!\nPlease Select Carefully!\nPlease Select Carefully!\nPlease Select Carefully!\nPlease Select Carefully!\nPlease Select Carefully!\nPlease Select Carefully!\nPlease Select Carefully!\nPlease Select Carefully!\nPlease Select Carefully!\nPlease Select Carefully!\nPlease Select Carefully!\nPlease Select Carefully!\nPlease Select Carefully!\nPlease Select Carefully!\nPlease Select Carefully!\nPlease Select Carefully!\nPlease Select Carefully!\nPlease Select Carefully!\nPlease Select Carefully!\nPlease Select Carefully!\nPlease Select Carefully!\nPlease Select Carefully!\nPlease Select Carefully!\nPlease Select Carefully!\nPlease Select Carefully!\nPlease Select Carefully!\nPlease Select Carefully!\nPlease Select Carefully!\nPlease Select Carefully!\nPlease Select Carefully!\nPlease Select Carefully!\nPlease Select Carefully!\nPlease Select Carefully!\nPlease Select Carefully!\nPlease Select Carefully!\nPlease Select Carefully!\nPlease Select Carefully!\nPlease Select Carefully!\nPlease Select Carefully!\nPlease Select Carefully!\nPlease Select Carefully!\nPlease Select Carefully!\nPlease Select Carefully!\nPlease Select Carefully!\nPlease Select Carefully!\nPlease Select Carefully!\nPlease Select Carefully!\nPlease Select Carefully!\nPlease Select Carefully!\nPlease Select Carefully!\nPlease Select Carefully!\nPlease Select Carefully!\nPlease Select Carefully!\nPlease Select Carefully!\nPlease Select Carefully!\nPlease Select Carefully!\nPlease Select Carefully!\nPlease Select Carefully!\nPlease Select Carefully!\nPlease Select Carefully!\nPlease Select Carefully!\nPlease Select Carefully!\nPlease Select Carefully!\nPlease Select Carefully!\nPlease Select Carefully!\nPlease Select Carefully!\nPlease Select Carefully!\nPlease Select Carefully!\nPlease Select Carefully!\nPlease Select Carefully!\nPlease Select Carefully!\nPlease Select Carefully!\nPlease Select Carefully!\nPlease Select Carefully!\nPlease Select Carefully!\nPlease Select Carefully!\nPlease Select Carefully!\nPlease Select Carefully!\nPlease Select Carefully!\nPlease Select Carefully!\nPlease Select Carefully!\nPlease Select Carefully!\nPlease Select Carefully!\nPlease Select Carefully!\nPlease Select Carefully!\nPlease Select Carefully!\nPlease Select Carefully!\nPlease Select Carefully!\nPlease Select Carefully!\nPlease Select Carefully!\nPlease Select Carefully!\nPlease Select Carefully!\nPlease Select Carefully!\nPlease Select Carefully!\nPlease Select Carefully!\nPlease Select Carefully!\nPlease Select Carefully!\nPlease Select Carefully!\nPlease Select Carefully!\nPlease Select Carefully!\nPlease Select Carefully!\nPlease Select Carefully!\nPlease Select Carefully!\nPlease Select Carefully!\nPlease Select Carefully!\nPlease Select Carefully!\nPlease Select Carefully!\nPlease Select Carefully!\nPlease Select Carefully!\nPlease Select Carefully!\nPlease Select Carefully!\nPlease Select Carefully!\nPlease Select Carefully!\nPlease Select Carefully!\nPlease Select Carefully!\nPlease Select Carefully!\nPlease Select Carefully!\nPlease Select Carefully!\nPlease Select Carefully!\nPlease Select Carefully!\nPlease Select Carefully!\nPlease Select Carefully!\nPlease Select Carefully!\nPlease Select Carefully!\nPlease Select Carefully!\nPlease Select Carefully!\nPlease Select Carefully!\nPlease Select Carefully!\nPlease Select Carefully!\nPlease Select Carefully!\nPlease Select Carefully!\nPlease Select Carefully!\nPlease Select Carefully!\nPlease Select Carefully!\nPlease Select Carefully!\nPlease Select Carefully!\nPlease Select Carefully!\nPlease Select Carefully!\nPlease Select Carefully!\nPlease Select Carefully!\nPlease Select Carefully!\nPlease Select Carefully!\nPlease Select Carefully!\nPlease Select Carefully!\nPlease Select Carefully!\nPlease Select Carefully!\nPlease Select Carefully!\nPlease Select Carefully!\nPlease Select Carefully!\nPlease Select Carefully!\nPlease Select Carefully!\nPlease Select Carefully!\nPlease Select Carefully!\nPlease Select Carefully!\nPlease Select Carefully!\nPlease Select Carefully!\nPlease Select Carefully!\nPlease Select Carefully!\nPlease Select Carefully!\nPlease Select Carefully!\nPlease Select Carefully!\nPlease Select Carefully!\nPlease Select Carefully!\nPlease Select Carefully!\nPlease Select Carefully!\nPlease Select Carefully!\nPlease Select Carefully!\nPlease Select Carefully!\nPlease Select Carefully!\nPlease Select Carefully!\nPlease Select Carefully!\nPlease Select Carefully!\nPlease Select Carefully!\nPlease Select Carefully!\nPlease Select Carefully!\nPlease Select Carefully!\nPlease Select Carefully!\nPlease Select Carefully!\nPlease Select Carefully!\nPlease Select Carefully!\nPlease Select Carefully!\nPlease Select Carefully!\nPlease Select Carefully!\nPlease Select Carefully!\nPlease Select Carefully!\nPlease Select Carefully!\nPlease Select Carefully!\nPlease Select Carefully!\nPlease Select Carefully!\nPlease Select Carefully!\nPlease Select Carefully!\nPlease Select Carefully!\nPlease Select Carefully!\nPlease Select Carefully!\nPlease Select Carefully!\nPlease Select Carefully!\nPlease Select Carefully!\nPlease Select Carefully!\nPlease Select Carefully!\nPlease Select Carefully!\nPlease Select Carefully!\nPlease Select Carefully!\nPlease Select Carefully!\nPlease Select Carefully!\nPlease Select Carefully!\nPlease Select Carefully!\nPlease Select Carefully!\nPlease Select Carefully!\nPlease Select Carefully!\nPlease Select Carefully!\nPlease Select Carefully!\nPlease Select Carefully!\nPlease Select Carefully!\nPlease Select Carefully!\nPlease Select Carefully!\nPlease Select Carefully!\nPlease Select Carefully!\nPlease Select Carefully!\nPlease Select Carefully!\nPlease Select Carefully!\nPlease Select Carefully!\nPlease Select Carefully!\nPlease Select Carefully!\nPlease Select Carefully!\nPlease Select Carefully!\nPlease Select Carefully!\nPlease Select Carefully!\nPlease Select Carefully!\nPlease Select Carefully!\nPlease Select Carefully!\nPlease Select Carefully!\nPlease Select Carefully!\nPlease Select Carefully!\nPlease Select Carefully!\nPlease Select Carefully!\nPlease Select Carefully!\nPlease Select Carefully!\nPlease Select Carefully!\nPlease Select Carefully!\nPlease Select Carefully!\nPlease Select Carefully!\nPlease Select Carefully!\nPlease Select Carefully!\nPlease Select Carefully!\nPlease Select Carefully!\nPlease Select Carefully!\nPlease Select Carefully!\nPlease Select Carefully!\nPlease Select Carefully!\nPlease Select Carefully!\nPlease Select Carefully!\nPlease Select Carefully!\nPlease Select Carefully!\nPlease Select Carefully!\nPlease Select Carefully!\nPlease Select Carefully!\nPlease Select Carefully!\nPlease Select Carefully!\nPlease Select Carefully!\nPlease Select Carefully!\nPlease Select Carefully!\nPlease Select Carefully!\nPlease Select Carefully!\nPlease Select Carefully!\nPlease Select Carefully!\nPlease Select Carefully!\nPlease Select Carefully!\nPlease Select Carefully!\nPlease Select Carefully!\nPlease Select Carefully!\nPlease Select Carefully!\nPlease Select Carefully!\nPlease Select Carefully!\nPlease Select Carefully!\nPlease Select Carefully!\nPlease Select Carefully!\nPlease Select Carefully!\nPlease Select Carefully!\nPlease Select Carefully!\nPlease Select Carefully!\nPlease Select Carefully!\nPlease Select Carefully!\nPlease Select Carefully!\nPlease Select Carefully!\nPlease Select Carefully!\nPlease Select Carefully!\nPlease Select Carefully!\nPlease Select Carefully!\nPlease Select Carefully!\nPlease Select Carefully!\nPlease Select Carefully!\nPlease Select Carefully!\nPlease Select Carefully!\nPlease Select Carefully!\nPlease Select Carefully!\nPlease Select Carefully!\nPlease Select Carefully!\nPlease Select Carefully!\nPlease Select Carefully!\nPlease Select Carefully!\nPlease Select Carefully!\nPlease Select Carefully!\nPlease Select Carefully!\nPlease Select Carefully!\nPlease Select Carefully!\nPlease Select Carefully!\nPlease Select Carefully!\nPlease Select Carefully!\nPlease Select Carefully!\nPlease Select Carefully!\nPlease Select Carefully!\nPlease Select Carefully!\nPlease Select Carefully!\nPlease Select Carefully!\nPlease Select Carefully!\nPlease Select Carefully!\nPlease Select Carefully!\nPlease Select Carefully!\nPlease Select Carefully!\nPlease Select Carefully!\nPlease Select Carefully!\nPlease Select Carefully!\nPlease Select Carefully!\nPlease Select Carefully!\nPlease Select Carefully!\nPlease Select Carefully!\nPlease Select Carefully!\nPlease Select Carefully!\nPlease Select Carefully!\nPlease Select Carefully!\nPlease Select Carefully!\nPlease Select Carefully!\nPlease Select Carefully!\nPlease Select Carefully!\nPlease Select Carefully!\nPlease Select Carefully!\nPlease Select Carefully!\nPlease Select Carefully!\nPlease Select Carefully!\nPlease Select Carefully!\nPlease Select Carefully!\nPlease Select Carefully!\nPlease Select Carefully!\nPlease Select Carefully!\nPlease Select Carefully!\nPlease Select Carefully!\nPlease Select Carefully!\nPlease Select Carefully!\nPlease Select Carefully!\nPlease Select Carefully!\nPlease Select Carefully!\nPlease Select Carefully!\nPlease Select Carefully!\nPlease Select Carefully!\nPlease Select Carefully!\nPlease Select Carefully!\nPlease Select Carefully!\nPlease Select Carefully!\nPlease Select Carefully!\nPlease Select Carefully!\nPlease Select Carefully!\nPlease Select Carefully!\nPlease Select Carefully!\nPlease Select Carefully!\nPlease Select Carefully!\nPlease Select Carefully!\nPlease Select Carefully!\nPlease Select Carefully!\nPlease Select Carefully!\nPlease Select Carefully!\nPlease Select Carefully!\nPlease Select Carefully!\nPlease Select Carefully!\nPlease Select Carefully!\nPlease Select Carefully!\nPlease Select Carefully!\nPlease Select Carefully!\nPlease Select Carefully!\nPlease Select Carefully!\nPlease Select Carefully!\nPlease Select Carefully!\nPlease Select Carefully!\nPlease Select Carefully!\nPlease Select Carefully!\nPlease Select Carefully!\nPlease Select Carefully!\nPlease Select Carefully!\nPlease Select Carefully!\nPlease Select Carefully!\nPlease Select Carefully!\nPlease Select Carefully!\nPlease Select Carefully!\nPlease Select Carefully!\nPlease Select Carefully!\nPlease Select Carefully!\nPlease Select Carefully!\nPlease Select Carefully!\nPlease Select Carefully!\nPlease Select Carefully!\nPlease Select Carefully!\nPlease Select Carefully!\nPlease Select Carefully!\nPlease Select Carefully!\nPlease Select Carefully!\nPlease Select Carefully!\nPlease Select Carefully!\nPlease Select Carefully!\nPlease Select Carefully!\nPlease Select Carefully!\nPlease Select Carefully!\nPlease Select Carefully!\nPlease Select Carefully!\nPlease Select Carefully!\nPlease Select Carefully!\nPlease Select Carefully!\nPlease Select Carefully!\nPlease Select Carefully!\nPlease Select Carefully!\nPlease Select Carefully!\nPlease Select Carefully!\nPlease Select Carefully!\nPlease Select Carefully!\nPlease Select Carefully!\nPlease Select Carefully!\nPlease Select Carefully!\nPlease Select Carefully!\nPlease Select Carefully!\nPlease Select Carefully!\nPlease Select Carefully!\nPlease Select Carefully!\nPlease Select Carefully!\nPlease Select Carefully!\nPlease Select Carefully!\nPlease Select Carefully!\nPlease Select Carefully!\nPlease Select Carefully!\nPlease Select Carefully!\nPlease Select Carefully!\nPlease Select Carefully!\nPlease Select Carefully!\nPlease Select Carefully!\nPlease Select Carefully!\nPlease Select Carefully!\nPlease Select Carefully!\nPlease Select Carefully!\nPlease Select Carefully!\nPlease Select Carefully!\nPlease Select Carefully!\nPlease Select Carefully!\nPlease Select Carefully!\nPlease Select Carefully!\nPlease Select Carefully!\nPlease Select Carefully!\nPlease Select Carefully!\nPlease Select Carefully!\nPlease Select Carefully!\nPlease Select Carefully!\nPlease Select Carefully!\nPlease Select Carefully!\nPlease Select Carefully!\nPlease Select Carefully!\nPlease Select Carefully!\nPlease Select Carefully!\nPlease Select Carefully!\nPlease Select Carefully!\nPlease Select Carefully!\nPlease Select Carefully!\nPlease Select Carefully!\nPlease Select Carefully!\nPlease Select Carefully!\nPlease Select Carefully!\nPlease Select Carefully!\nPlease Select Carefully!\nPlease Select Carefully!\nPlease Select Carefully!\nPlease Select Carefully!\nPlease Select Carefully!\nPlease Select Carefully!\nPlease Select Carefully!\nPlease Select Carefully!\nPlease Select Carefully!\nPlease Select Carefully!\nPlease Select Carefully!\nPlease Select Carefully!\nPlease Select Carefully!\nPlease Select Carefully!\nPlease Select Carefully!\nPlease Select Carefully!\nPlease Select Carefully!\nPlease Select Carefully!\nPlease Select Carefully!\nPlease Select Carefully!\nPlease Select Carefully!\nPlease Select Carefully!\nPlease Select Carefully!\nPlease Select Carefully!\nPlease Select Carefully!\nPlease Select Carefully!\nPlease Select Carefully!\nPlease Select Carefully!\nPlease Select Carefully!\nPlease Select Carefully!\nPlease Select Carefully!\nPlease Select Carefully!\nPlease Select Carefully!\nPlease Select Carefully!\nPlease Select Carefully!\nPlease Select Carefully!\nPlease Select Carefully!\nPlease Select Carefully!\nPlease Select Carefully!\nPlease Select Carefully!\nPlease Select Carefully!\nPlease Select Carefully!\nPlease Select Carefully!\nPlease Select Carefully!\nPlease Select Carefully!\nPlease Select Carefully!\nPlease Select Carefully!\nPlease Select Carefully!\nPlease Select Carefully!\nPlease Select Carefully!\nPlease Select Carefully!\nPlease Select Carefully!\nPlease Select Carefully!\nPlease Select Carefully!\nPlease Select Carefully!\nPlease Select Carefully!\nPlease Select Carefully!\nPlease Select Carefully!\nPlease Select Carefully!\nPlease Select Carefully!\nPlease Select Carefully!\nPlease Select Carefully!\nPlease Select Carefully!\nPlease Select Carefully!\nPlease Select Carefully!\nPlease Select Carefully!\nPlease Select Carefully!\nPlease Select Carefully!\nPlease Select Carefully!\nPlease Select Carefully!\nPlease Select Carefully!\nPlease Select Carefully!\nPlease Select Carefully!\nPlease Select Carefully!\nPlease Select Carefully!\nPlease Select Carefully!\nPlease Select Carefully!\nPlease Select Carefully!\nPlease Select Carefully!\nPlease Select Carefully!\nPlease Select Carefully!\nPlease Select Carefully!\nPlease Select Carefully!\nPlease Select Carefully!\nPlease Select Carefully!\nPlease Select Carefully!\nPlease Select Carefully!\nPlease Select Carefully!\nPlease Select Carefully!\nPlease Select Carefully!\nPlease Select Carefully!\nPlease Select Carefully!\nPlease Select Carefully!\nPlease Select Carefully!\nPlease Select Carefully!\nPlease Select Carefully!\nPlease Select Carefully!\nPlease Select Carefully!\nPlease Select Carefully!\nPlease Select Carefully!\nPlease Select Carefully!\nPlease Select Carefully!\nPlease Select Carefully!\nPlease Select Carefully!\nPlease Select Carefully!\nPlease Select Carefully!\nPlease Select Carefully!\nPlease Select Carefully!\nPlease Select Carefully!\nPlease Select Carefully!\nPlease Select Carefully!\nPlease Select Carefully!\nPlease Select Carefully!\nPlease Select Carefully!\nPlease Select Carefully!\nPlease Select Carefully!\nPlease Select Carefully!\nPlease Select Carefully!\nPlease Select Carefully!\nPlease Select Carefully!\nPlease Select Carefully!\nPlease Select Carefully!\nPlease Select Carefully!\nPlease Select Carefully!\nPlease Select Carefully!\nPlease Select Carefully!\nPlease Select Carefully!\nPlease Select Carefully!\nPlease Select Carefully!\nPlease Select Carefully!\nPlease Select Carefully!\nPlease Select Carefully!\nPlease Select Carefully!\nPlease Select Carefully!\nPlease Select Carefully!\nPlease Select Carefully!\nPlease Select Carefully!\nPlease Select Carefully!\nPlease Select Carefully!\nPlease Select Carefully!\nPlease Select Carefully!\nPlease Select Carefully!\nPlease Select Carefully!\nPlease Select Carefully!\nPlease Select Carefully!\nPlease Select Carefully!\nPlease Select Carefully!\nPlease Select Carefully!\nPlease Select Carefully!\nPlease Select Carefully!\nPlease Select Carefully!\nPlease Select Carefully!\nPlease Select Carefully!\nPlease Select Carefully!\nPlease Select Carefully!\nPlease Select Carefully!\nPlease Select Carefully!\nPlease Select Carefully!\nPlease Select Carefully!\nPlease Select Carefully!\nPlease Select Carefully!\nPlease Select Carefully!\nPlease Select Carefully!\nPlease Select Carefully!\nPlease Select Carefully!\nPlease Select Carefully!\nPlease Select Carefully!\nPlease Select Carefully!\nPlease Select Carefully!\nPlease Select Carefully!\nPlease Select Carefully!\nPlease Select Carefully!\nPlease Select Carefully!\nPlease Select Carefully!\nPlease Select Carefully!\nPlease Select Carefully!\nPlease Select Carefully!\nPlease Select Carefully!\nPlease Select Carefully!\nPlease Select Carefully!\nPlease Select Carefully!\nPlease Select Carefully!\nPlease Select Carefully!\nPlease Select Carefully!\nPlease Select Carefully!\nPlease Select Carefully!\nPlease Select Carefully!\nPlease Select Carefully!\nPlease Select Carefully!\nPlease Select Carefully!\nPlease Select Carefully!\nPlease Select Carefully!\nPlease Select Carefully!\nPlease Select Carefully!\nPlease Select Carefully!\nPlease Select Carefully!\nPlease Select Carefully!\nPlease Select Carefully!\nPlease Select Carefully!\nPlease Select Carefully!\nPlease Select Carefully!\nPlease Select Carefully!\nPlease Select Carefully!\nPlease Select Carefully!\nPlease Select Carefully!\nPlease Select Carefully!\nPlease Select Carefully!\nPlease Select Carefully!\nPlease Select Carefully!\nPlease Select Carefully!\nPlease Select Carefully!\nPlease Select Carefully!\nPlease Select Carefully!\nPlease Select Carefully!\nPlease Select Carefully!\nPlease Select Carefully!\nPlease Select Carefully!\nPlease Select Carefully!\nPlease Select Carefully!\nPlease Select Carefully!\nPlease Select Carefully!\nPlease Select Carefully!\nPlease Select Carefully!\nPlease Select Carefully!\nPlease Select Carefully!\nPlease Select Carefully!\nPlease Select Carefully!\nPlease Select Carefully!\nPlease Select Carefully!\nPlease Select Carefully!\nPlease Select Carefully!\nPlease Select Carefully!\nPlease Select Carefully!\nPlease Select Carefully!\nPlease Select Carefully!\nPlease Select Carefully!\nPlease Select Carefully!\nPlease Select Carefully!\nPlease Select Carefully!\nPlease Select Carefully!\nPlease Select Carefully!\nPlease Select Carefully!\nPlease Select Carefully!\nPlease Select Carefully!\nPlease Select Carefully!\nPlease Select Carefully!\nPlease Select Carefully!\nPlease Select Carefully!\nPlease Select Carefully!\nPlease Select Carefully!\nPlease Select Carefully!\nPlease Select Carefully!\nPlease Select Carefully!\nPlease Select Carefully!\nPlease Select Carefully!\nPlease Select Carefully!\nPlease Select Carefully!\nPlease Select Carefully!\nPlease Select Carefully!\nPlease Select Carefully!\nPlease Select Carefully!\nPlease Select Carefully!\nPlease Select Carefully!\nPlease Select Carefully!\nPlease Select Carefully!\nPlease Select Carefully!\nPlease Select Carefully!\nPlease Select Carefully!\nPlease Select Carefully!\nPlease Select Carefully!\nPlease Select Carefully!\nPlease Select Carefully!\nPlease Select Carefully!\nPlease Select Carefully!\nPlease Select Carefully!\nPlease Select Carefully!\nPlease Select Carefully!\nPlease Select Carefully!\nPlease Select Carefully!\nPlease Select Carefully!\nPlease Select Carefully!\nPlease Select Carefully!\nPlease Select Carefully!\nPlease Select Carefully!\nPlease Select Carefully!\nPlease Select Carefully!\nPlease Select Carefully!\nPlease Select Carefully!\nPlease Select Carefully!\nPlease Select Carefully!\nPlease Select Carefully!\nPlease Select Carefully!\nPlease Select Carefully!\nPlease Select Carefully!\nPlease Select Carefully!\nPlease Select Carefully!\nPlease Select Carefully!\nPlease Select Carefully!\nPlease Select Carefully!\nPlease Select Carefully!\nPlease Select Carefully!\nPlease Select Carefully!\nPlease Select Carefully!\nPlease Select Carefully!\nPlease Select Carefully!\nPlease Select Carefully!\nPlease Select Carefully!\nPlease Select Carefully!\nPlease Select Carefully!\nPlease Select Carefully!\nPlease Select Carefully!\nPlease Select Carefully!\nPlease Select Carefully!\nPlease Select Carefully!\nPlease Select Carefully!\nPlease Select Carefully!\nPlease Select Carefully!\nPlease Select Carefully!\nPlease Select Carefully!\nPlease Select Carefully!\nPlease Select Carefully!\nPlease Select Carefully!\nPlease Select Carefully!\nPlease Select Carefully!\nPlease Select Carefully!\nPlease Select Carefully!\nPlease Select Carefully!\nPlease Select Carefully!\nPlease Select Carefully!\nPlease Select Carefully!\nPlease Select Carefully!\nPlease Select Carefully!\nPlease Select Carefully!\nPlease Select Carefully!\nPlease Select Carefully!\nPlease Select Carefully!\nPlease Select Carefully!\nPlease Select Carefully!\nPlease Select Carefully!\nPlease Select Carefully!\nPlease Select Carefully!\nPlease Select Carefully!\nPlease Select Carefully!\nPlease Select Carefully!\nPlease Select Carefully!\nPlease Select Carefully!\nPlease Select Carefully!\nPlease Select Carefully!\nPlease Select Carefully!\nPlease Select Carefully!\nPlease Select Carefully!\nPlease Select Carefully!\nPlease Select Carefully!\nPlease Select Carefully!\nPlease Select Carefully!\nPlease Select Carefully!\nPlease Select Carefully!\nPlease Select Carefully!\nPlease Select Carefully!\nPlease Select Carefully!\nPlease Select Carefully!\nPlease Select Carefully!\nPlease Select Carefully!\nPlease Select Carefully!\nPlease Select Carefully!\nPlease Select Carefully!\nPlease Select Carefully!\nPlease Select Carefully!\nPlease Select Carefully!\nPlease Select Carefully!\nPlease Select Carefully!\nPlease Select Carefully!\nPlease Select Carefully!\nPlease Select Carefully!\nPlease Select Carefully!\nPlease Select Carefully!\nPlease Select Carefully!\nPlease Select Carefully!\nPlease Select Carefully!\nPlease Select Carefully!\nPlease Select Carefully!\nPlease Select Carefully!\nPlease Select Carefully!\nPlease Select Carefully!\nPlease Select Carefully!\nPlease Select Carefully!\nPlease Select Carefully!\nPlease Select Carefully!\nPlease Select Carefully!\nPlease Select Carefully!\nPlease Select Carefully!\nPlease Select Carefully!\nPlease Select Carefully!\nPlease Select Carefully!\nPlease Select Carefully!\nPlease Select Carefully!\nPlease Select Carefully!\nPlease Select Carefully!\nPlease Select Carefully!\nPlease Select Carefully!\nPlease Select Carefully!\nPlease Select Carefully!\nPlease Select Carefully!\nPlease Select Carefully!\nPlease Select Carefully!\nPlease Select Carefully!\nPlease Select Carefully!\nPlease Select Carefully!\nPlease Select Carefully!\nPlease Select Carefully!\nPlease Select Carefully!\nPlease Select Carefully!\nPlease Select Carefully!\nPlease Select Carefully!\nPlease Select Carefully!\nPlease Select Carefully!\nPlease Select Carefully!\nPlease Select Carefully!\nPlease Select Carefully!\nPlease Select Carefully!\nPlease Select Carefully!\nPlease Select Carefully!\nPlease Select Carefully!\nPlease Select Carefully!\nPlease Select Carefully!\nPlease Select Carefully!\nPlease Select Carefully!\nPlease Select Carefully!\nPlease Select Carefully!\nPlease Select Carefully!\nPlease Select Carefully!\nPlease Select Carefully!\nPlease Select Carefully!\nPlease Select Carefully!\nPlease Select Carefully!\nPlease Select Carefully!\nPlease Select Carefully!\nPlease Select Carefully!\nPlease Select Carefully!\nPlease Select Carefully!\nPlease Select Carefully!\nPlease Select Carefully!\nPlease Select Carefully!\nPlease Select Carefully!\nPlease Select Carefully!\nPlease Select Carefully!\nPlease Select Carefully!\nPlease Select Carefully!\nPlease Select Carefully!\nPlease Select Carefully!\nPlease Select Carefully!\nPlease Select Carefully!\nPlease Select Carefully!\nPlease Select Carefully!\nPlease Select Carefully!\nPlease Select Carefully!\nPlease Select Carefully!\nPlease Select Carefully!\nPlease Select Carefully!\nPlease Select Carefully!\nPlease Select Carefully!\nPlease Select Carefully!\nPlease Select Carefully!\nPlease Select Carefully!\nPlease Select Carefully!\nPlease Select Carefully!\nPlease Select Carefully!\nPlease Select Carefully!\nPlease Select Carefully!\nPlease Select Carefully!\nPlease Select Carefully!\nPlease Select Carefully!\nPlease Select Carefully!\nPlease Select Carefully!\nPlease Select Carefully!\nPlease Select Carefully!\nPlease Select Carefully!\nPlease Select Carefully!\nPlease Select Carefully!\nPlease Select Carefully!\nPlease Select Carefully!\nPlease Select Carefully!\nPlease Select Carefully!\nPlease Select Carefully!\nPlease Select Carefully!\nPlease Select Carefully!\nPlease Select Carefully!\nPlease Select Carefully!\nPlease Select Carefully!\nPlease Select Carefully!\nPlease Select Carefully!\nPlease Select Carefully!\nPlease Select Carefully!\nPlease Select Carefully!\nPlease Select Carefully!\nPlease Select Carefully!\nPlease Select Carefully!\nPlease Select Carefully!\nPlease Select Carefully!\nPlease Select Carefully!\nPlease Select Carefully!\nPlease Select Carefully!\nPlease Select Carefully!\nPlease Select Carefully!\nPlease Select Carefully!\nPlease Select Carefully!\nPlease Select Carefully!\nPlease Select Carefully!\nPlease Select Carefully!\nPlease Select Carefully!\nPlease Select Carefully!\nPlease Select Carefully!\nPlease Select Carefully!\nPlease Select Carefully!\nPlease Select Carefully!\nPlease Select Carefully!\nPlease Select Carefully!\nPlease Select Carefully!\nPlease Select Carefully!\nPlease Select Carefully!\nPlease Select Carefully!\nPlease Select Carefully!\nPlease Select Carefully!\nPlease Select Carefully!\nPlease Select Carefully!\nPlease Select Carefully!\nPlease Select Carefully!\nPlease Select Carefully!\nPlease Select Carefully!\nPlease Select Carefully!\nPlease Select Carefully!\nPlease Select Carefully!\nPlease Select Carefully!\nPlease Select Carefully!\nPlease Select Carefully!\nPlease Select Carefully!\nPlease Select Carefully!\nPlease Select Carefully!\nPlease Select Carefully!\nPlease Select Carefully!\nPlease Select Carefully!\nPlease Select Carefully!\nPlease Select Carefully!\nPlease Select Carefully!\nPlease Select Carefully!\nPlease Select Carefully!\nPlease Select Carefully!\nPlease Select Carefully!\nPlease Select Carefully!\nPlease Select Carefully!\nPlease Select Carefully!\nPlease Select Carefully!\nPlease Select Carefully!\nPlease Select Carefully!\nPlease Select Carefully!\nPlease Select Carefully!\nPlease Select Carefully!\nPlease Select Carefully!\nPlease Select Carefully!\nPlease Select Carefully!\nPlease Select Carefully!\nPlease Select Carefully!\nPlease Select Carefully!\nPlease Select Carefully!\nPlease Select Carefully!\nPlease Select Carefully!\nPlease Select Carefully!\nPlease Select Carefully!\nPlease Select Carefully!\nPlease Select Carefully!\nPlease Select Carefully!\nPlease Select Carefully!\nPlease Select Carefully!\nPlease Select Carefully!\nPlease Select Carefully!\nPlease Select Carefully!\nPlease Select Carefully!\nPlease Select Carefully!\nPlease Select Carefully!\nPlease Select Carefully!\nPlease Select Carefully!\nPlease Select Carefully!\nPlease Select Carefully!\nPlease Select Carefully!\nPlease Select Carefully!\nPlease Select Carefully!\n",
          "output_type": "stream"
        }
      ]
    },
    {
      "cell_type": "code",
      "source": [],
      "metadata": {
        "trusted": true,
        "id": "ytv8gxrPFdjo"
      },
      "execution_count": null,
      "outputs": []
    },
    {
      "cell_type": "code",
      "source": [],
      "metadata": {
        "trusted": true,
        "id": "9a2tLJxKFdjo"
      },
      "execution_count": null,
      "outputs": []
    }
  ]
}